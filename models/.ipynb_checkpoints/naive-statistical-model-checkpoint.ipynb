{
 "cells": [
  {
   "cell_type": "code",
   "execution_count": 1,
   "metadata": {},
   "outputs": [],
   "source": [
    "import tensorflow as tf\n",
    "\n",
    "import os\n",
    "import cv2\n",
    "import numpy as np\n",
    "import shutil\n",
    "import random\n",
    "import pandas as pd\n",
    "\n",
    "from matplotlib import pyplot as plt\n",
    "from IPython import display"
   ]
  },
  {
   "cell_type": "code",
   "execution_count": 2,
   "metadata": {},
   "outputs": [],
   "source": [
    "# Specifiy directories and files\n",
    "DIR_SRC = \"cil-cosmology-2020/labeled\"\n",
    "DIR_BIN = \"cil-cosmology-2020/binary\"\n",
    "DIR_TAR = \"cil-cosmology-2020/new\"\n",
    "label_csv = pd.read_csv(\"cil-cosmology-2020/labeled.csv\")"
   ]
  },
  {
   "cell_type": "code",
   "execution_count": null,
   "metadata": {},
   "outputs": [],
   "source": [
    "# Set constants\n",
    "IMAGE_FORMAT = \".png\"\n",
    "BINARY_THRESHOLD = 127\n",
    "BINARY_MAX = 255"
   ]
  },
  {
   "cell_type": "code",
   "execution_count": 3,
   "metadata": {},
   "outputs": [],
   "source": [
    "def create_dir(dir_path):\n",
    "    if os.path.isdir(dir_path):\n",
    "        shutil.rmtree(dir_path)\n",
    "    os.mkdir(dir_path)"
   ]
  },
  {
   "cell_type": "code",
   "execution_count": 4,
   "metadata": {},
   "outputs": [],
   "source": [
    "def to_binary(img_path, threshold=127):\n",
    "    img = cv2.imread(img_path, cv2.IMREAD_GRAYSCALE)\n",
    "    ret,thresh1 = cv2.threshold(img,BINARY_THRESHOLD,BINARY_MAX,cv2.THRESH_BINARY)\n",
    "    return thresh1"
   ]
  },
  {
   "cell_type": "code",
   "execution_count": 5,
   "metadata": {},
   "outputs": [],
   "source": [
    "def store_img(img, path_tar):\n",
    "    cv2.imwrite(path_tar,img)"
   ]
  },
  {
   "cell_type": "code",
   "execution_count": 6,
   "metadata": {},
   "outputs": [],
   "source": [
    "def store_transform(dir_src, dir_tar, img_ids, transform):\n",
    "    for img_id in img_ids:\n",
    "        path_src = os.path.join(dir_src, str(img_id)+IMAGE_FORMAT)\n",
    "        path_tar = os.path.join(dir_tar, str(img_id)+IMAGE_FORMAT)\n",
    "        \n",
    "        img = transform(path_src)\n",
    "        \n",
    "        store_img(img, path_tar)"
   ]
  },
  {
   "cell_type": "code",
   "execution_count": 7,
   "metadata": {},
   "outputs": [],
   "source": [
    "def hough_transform(img_path):\n",
    "    img_name = os.path.basename(img_path)\n",
    "    img = cv2.imread(img_path, cv2.IMREAD_GRAYSCALE)\n",
    "    height, width = img.shape\n",
    "    cimg = np.zeros((height, width), np.uint8)\n",
    "    \n",
    "    circles = cv2.HoughCircles(img,cv2.HOUGH_GRADIENT,1,10,\n",
    "                            param1=30,param2=5,minRadius=1,maxRadius=20)\n",
    "    \n",
    "    if not (circles is None):\n",
    "        circles = np.uint16(np.around(circles))\n",
    "    \n",
    "    return circles"
   ]
  },
  {
   "cell_type": "code",
   "execution_count": 8,
   "metadata": {},
   "outputs": [],
   "source": [
    "def get_features(dir_src, img_ids):\n",
    "    circle_list = []\n",
    "    for img_id in img_ids:\n",
    "        path_src = os.path.join(dir_src, str(img_id)+\".png\")\n",
    "        \n",
    "        circles = hough_transform(path_src)\n",
    "        circle_list.append(circles)\n",
    "    return circle_list"
   ]
  },
  {
   "cell_type": "code",
   "execution_count": 9,
   "metadata": {},
   "outputs": [],
   "source": [
    "def round_to_grid(array, gridsize=10, max_vals = [99, 99]):\n",
    "    array = np.floor(array/gridsize)\n",
    "    array = np.minimum(array, max_vals)\n",
    "    return array"
   ]
  },
  {
   "cell_type": "code",
   "execution_count": 10,
   "metadata": {},
   "outputs": [],
   "source": [
    "def sample_features():\n",
    "    mask = np.random.rand(100, 100, 20)\n",
    "    coordinates_t = np.where(mask<=P)\n",
    "    coordinates = np.hstack(coordinates_t)\n",
    "    n_circles = int(coordinates.shape[0]/3)\n",
    "\n",
    "    circles = np.zeros((n_circles, 3))\n",
    "    offset_x = random.randint(0, 10)\n",
    "    offset_y = random.randint(0, 10)\n",
    "    for i in range(n_circles):\n",
    "        circles[i] = [coordinates[0*n_circles+i]*10+offset_x, coordinates[1*n_circles+i]*10+offset_y, coordinates[2*n_circles+i]]\n",
    "    circles = circles.astype(int)\n",
    "    return circles"
   ]
  },
  {
   "cell_type": "code",
   "execution_count": 11,
   "metadata": {},
   "outputs": [],
   "source": [
    "def generate_galaxies(n_galaxies, height=1000, width=1000):\n",
    "    galaxies = []\n",
    "    for i in range(n_galaxies):\n",
    "        circles = sample_features()\n",
    "        cimg = np.zeros((height, width), np.uint8)        \n",
    "        \n",
    "        for c in circles:\n",
    "            cv2.circle(cimg, (c[0], c[1]), c[2], 255, -1)\n",
    "        galaxies.append(cimg)\n",
    "    return galaxies"
   ]
  },
  {
   "cell_type": "code",
   "execution_count": 12,
   "metadata": {},
   "outputs": [],
   "source": [
    "create_dir(DIR_BIN)\n",
    "create_dir(DIR_TAR)"
   ]
  },
  {
   "cell_type": "code",
   "execution_count": 13,
   "metadata": {},
   "outputs": [],
   "source": [
    "# find galaxy images\n",
    "is_galaxy = label_csv[\"Actual\"]==1.0\n",
    "galaxy_ids = label_csv[is_galaxy].Id.values[1:]"
   ]
  },
  {
   "cell_type": "code",
   "execution_count": 15,
   "metadata": {},
   "outputs": [
    {
     "ename": "error",
     "evalue": "OpenCV(4.2.0) /Users/travis/build/skvark/opencv-python/opencv/modules/imgcodecs/src/loadsave.cpp:715: error: (-215:Assertion failed) !_img.empty() in function 'imwrite'\n",
     "output_type": "error",
     "traceback": [
      "\u001b[0;31m---------------------------------------------------------------------------\u001b[0m",
      "\u001b[0;31merror\u001b[0m                                     Traceback (most recent call last)",
      "\u001b[0;32m<ipython-input-15-123f0c160179>\u001b[0m in \u001b[0;36m<module>\u001b[0;34m\u001b[0m\n\u001b[1;32m      1\u001b[0m \u001b[0;31m# preprocess images to binary\u001b[0m\u001b[0;34m\u001b[0m\u001b[0;34m\u001b[0m\u001b[0;34m\u001b[0m\u001b[0m\n\u001b[0;32m----> 2\u001b[0;31m \u001b[0mstore_transform\u001b[0m\u001b[0;34m(\u001b[0m\u001b[0mDIR_SRC\u001b[0m\u001b[0;34m,\u001b[0m \u001b[0mDIR_BIN\u001b[0m\u001b[0;34m,\u001b[0m \u001b[0mgalaxy_ids\u001b[0m\u001b[0;34m,\u001b[0m \u001b[0mto_binary\u001b[0m\u001b[0;34m)\u001b[0m\u001b[0;34m\u001b[0m\u001b[0;34m\u001b[0m\u001b[0m\n\u001b[0m",
      "\u001b[0;32m<ipython-input-6-a816fb3bf50e>\u001b[0m in \u001b[0;36mstore_transform\u001b[0;34m(dir_src, dir_tar, img_ids, transform)\u001b[0m\n\u001b[1;32m      6\u001b[0m         \u001b[0mimg\u001b[0m \u001b[0;34m=\u001b[0m \u001b[0mtransform\u001b[0m\u001b[0;34m(\u001b[0m\u001b[0mpath_src\u001b[0m\u001b[0;34m)\u001b[0m\u001b[0;34m\u001b[0m\u001b[0;34m\u001b[0m\u001b[0m\n\u001b[1;32m      7\u001b[0m \u001b[0;34m\u001b[0m\u001b[0m\n\u001b[0;32m----> 8\u001b[0;31m         \u001b[0mstore_img\u001b[0m\u001b[0;34m(\u001b[0m\u001b[0mimg\u001b[0m\u001b[0;34m,\u001b[0m \u001b[0mpath_tar\u001b[0m\u001b[0;34m)\u001b[0m\u001b[0;34m\u001b[0m\u001b[0;34m\u001b[0m\u001b[0m\n\u001b[0m",
      "\u001b[0;32m<ipython-input-5-1c52ca7544f8>\u001b[0m in \u001b[0;36mstore_img\u001b[0;34m(img, path_tar)\u001b[0m\n\u001b[1;32m      1\u001b[0m \u001b[0;32mdef\u001b[0m \u001b[0mstore_img\u001b[0m\u001b[0;34m(\u001b[0m\u001b[0mimg\u001b[0m\u001b[0;34m,\u001b[0m \u001b[0mpath_tar\u001b[0m\u001b[0;34m)\u001b[0m\u001b[0;34m:\u001b[0m\u001b[0;34m\u001b[0m\u001b[0;34m\u001b[0m\u001b[0m\n\u001b[0;32m----> 2\u001b[0;31m     \u001b[0mcv2\u001b[0m\u001b[0;34m.\u001b[0m\u001b[0mimwrite\u001b[0m\u001b[0;34m(\u001b[0m\u001b[0mpath_tar\u001b[0m\u001b[0;34m,\u001b[0m\u001b[0mimg\u001b[0m\u001b[0;34m)\u001b[0m\u001b[0;34m\u001b[0m\u001b[0;34m\u001b[0m\u001b[0m\n\u001b[0m",
      "\u001b[0;31merror\u001b[0m: OpenCV(4.2.0) /Users/travis/build/skvark/opencv-python/opencv/modules/imgcodecs/src/loadsave.cpp:715: error: (-215:Assertion failed) !_img.empty() in function 'imwrite'\n"
     ]
    }
   ],
   "source": [
    "# preprocess images to binary\n",
    "store_transform(DIR_SRC, DIR_BIN, galaxy_ids, to_binary)"
   ]
  },
  {
   "cell_type": "code",
   "execution_count": null,
   "metadata": {},
   "outputs": [],
   "source": [
    "# extract features (coordinates and radius) from binary images\n",
    "circle_list = get_features(DIR_BIN, galaxy_ids)"
   ]
  },
  {
   "cell_type": "code",
   "execution_count": null,
   "metadata": {},
   "outputs": [],
   "source": [
    "# store features in csv\n",
    "n_images = len(circle_list)\n",
    "features = np.asarray([\"image\", \"x\", \"y\", \"r\"])\n",
    "\n",
    "for i, circles in enumerate(circle_list):\n",
    "    if not circles is None:\n",
    "        f = circles[0]\n",
    "        n_circles = f.shape[0]\n",
    "        indices = np.ones((n_circles, 1))\n",
    "        indices *= i\n",
    "        f = np.hstack((indices, f))\n",
    "        features = np.vstack((features, f))\n",
    "\n",
    "features = pd.DataFrame(data = features[1:], columns = features[0])\n",
    "features.to_csv(\"cil-cosmology-2020/circle_features.csv\", index=False)"
   ]
  },
  {
   "cell_type": "code",
   "execution_count": null,
   "metadata": {},
   "outputs": [],
   "source": [
    "# limit radius\n",
    "r_min = 1\n",
    "r_max = 20\n",
    "\n",
    "# setup grid\n",
    "cluster_width = 10\n",
    "cluster_height = 10\n",
    "test = circle_list[0]\n",
    "floored = np.floor(test/10)"
   ]
  },
  {
   "cell_type": "code",
   "execution_count": null,
   "metadata": {},
   "outputs": [],
   "source": [
    "# compute probability distribution\n",
    "P = np.zeros((100, 100, r_max))\n",
    "n_imgs = len(galaxy_ids)\n",
    "for i, img in enumerate(circle_list):\n",
    "    if img is None:\n",
    "        continue\n",
    "    for circle in img[0]:\n",
    "        index = round_to_grid(circle[:2]).reshape(2,).astype(int)\n",
    "        index = np.hstack((index, circle[2]))\n",
    "        index = tuple(index)\n",
    "        P[index] += 1/n_imgs"
   ]
  },
  {
   "cell_type": "code",
   "execution_count": null,
   "metadata": {},
   "outputs": [],
   "source": [
    "# generate new cosmology images\n",
    "images = generate_galaxies(500)\n",
    "plt.figure(figsize=(15, 20))\n",
    "n_images = len(images)\n",
    "ctr = 0\n",
    "for i, img in enumerate(images):\n",
    "    ctr += 1\n",
    "    image = np.asarray(img)\n",
    "    image = image.reshape((1000, 1000))\n",
    "    #plt.subplot(4, 3, i+1)\n",
    "    #plt.imshow(image)\n",
    "    #plt.axis(\"Off\")\n",
    "    image_path = os.path.join(DIR_TAR, str(ctr)+\".png\")\n",
    "    store_img(image, image_path)"
   ]
  },
  {
   "cell_type": "code",
   "execution_count": null,
   "metadata": {},
   "outputs": [],
   "source": []
  }
 ],
 "metadata": {
  "kernelspec": {
   "display_name": "Python 3",
   "language": "python",
   "name": "python3"
  },
  "language_info": {
   "codemirror_mode": {
    "name": "ipython",
    "version": 3
   },
   "file_extension": ".py",
   "mimetype": "text/x-python",
   "name": "python",
   "nbconvert_exporter": "python",
   "pygments_lexer": "ipython3",
   "version": "3.8.0"
  }
 },
 "nbformat": 4,
 "nbformat_minor": 4
}
