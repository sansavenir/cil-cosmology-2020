{
 "cells": [
  {
   "cell_type": "markdown",
   "metadata": {},
   "source": [
    "# Setup"
   ]
  },
  {
   "cell_type": "code",
   "execution_count": 3,
   "metadata": {},
   "outputs": [],
   "source": [
    "import os\n",
    "import cv2\n",
    "import numpy as np\n",
    "import shutil\n",
    "import random\n",
    "import pandas as pd\n",
    "import time\n",
    "\n",
    "from matplotlib import pyplot as plt\n",
    "from IPython import display"
   ]
  },
  {
   "cell_type": "code",
   "execution_count": 4,
   "metadata": {},
   "outputs": [],
   "source": [
    "start_time = time.time()"
   ]
  },
  {
   "cell_type": "code",
   "execution_count": 2,
   "metadata": {},
   "outputs": [],
   "source": [
    "# Specifiy directories and files\n",
    "DIR_SRC = \"cil-cosmology-2020/labeled\"\n",
    "DIR_BIN = \"cil-cosmology-2020/binary\"\n",
    "DIR_TAR = \"cil-cosmology-2020/results\"\n",
    "label_csv = pd.read_csv(\"cil-cosmology-2020/labeled.csv\")"
   ]
  },
  {
   "cell_type": "code",
   "execution_count": 1,
   "metadata": {},
   "outputs": [],
   "source": [
    "# Set constants\n",
    "IMAGE_FORMAT = \".png\"\n",
    "BINARY_THRESHOLD = 127\n",
    "MAX_INTENSITY = 255\n",
    "\n",
    "HOUGH_PARAM_1 = 1\n",
    "HOUGH_PARAM_2 = 10\n",
    "HOUGH_PARAM_3 = 30\n",
    "HOUGH_PARAM_4 = 5\n",
    "MIN_RADIUS = 1\n",
    "MAX_RADIUS = 20\n",
    "\n",
    "IMAGE_SIZE = 1000\n",
    "GRIDSIZE = 10\n",
    "N_TILES = int(IMAGE_SIZE/GRIDSIZE)\n",
    "\n",
    "N_IMAGES_TO_GENERATE = 500"
   ]
  },
  {
   "cell_type": "code",
   "execution_count": 4,
   "metadata": {},
   "outputs": [],
   "source": [
    "def create_dir(dir_path):\n",
    "    if os.path.isdir(dir_path):\n",
    "        shutil.rmtree(dir_path)\n",
    "    os.mkdir(dir_path)"
   ]
  },
  {
   "cell_type": "code",
   "execution_count": 5,
   "metadata": {},
   "outputs": [],
   "source": [
    "create_dir(DIR_BIN)\n",
    "create_dir(DIR_TAR)"
   ]
  },
  {
   "cell_type": "markdown",
   "metadata": {},
   "source": [
    "# Preprocessing"
   ]
  },
  {
   "cell_type": "code",
   "execution_count": 6,
   "metadata": {},
   "outputs": [],
   "source": [
    "def to_binary(img_path):\n",
    "    img = cv2.imread(img_path, cv2.IMREAD_GRAYSCALE)\n",
    "    ret,thresh1 = cv2.threshold(img,BINARY_THRESHOLD,MAX_INTENSITY,cv2.THRESH_BINARY)\n",
    "    return thresh1"
   ]
  },
  {
   "cell_type": "code",
   "execution_count": 7,
   "metadata": {},
   "outputs": [],
   "source": [
    "def store_img(img, path_tar):\n",
    "    cv2.imwrite(path_tar,img)"
   ]
  },
  {
   "cell_type": "code",
   "execution_count": 8,
   "metadata": {},
   "outputs": [],
   "source": [
    "def hough_transform(img_path):\n",
    "    img_name = os.path.basename(img_path)\n",
    "    img = cv2.imread(img_path, cv2.IMREAD_GRAYSCALE)\n",
    "    height, width = img.shape\n",
    "    cimg = np.zeros((height, width), np.uint8)\n",
    "    \n",
    "    circles = cv2.HoughCircles(img,cv2.HOUGH_GRADIENT,HOUGH_PARAM_1,HOUGH_PARAM_2,\n",
    "                            param1=HOUGH_PARAM_3,param2=HOUGH_PARAM_4,minRadius=MIN_RADIUS,maxRadius=MAX_RADIUS)\n",
    "    \n",
    "    if not (circles is None):\n",
    "        circles = np.uint16(np.around(circles))\n",
    "    \n",
    "    return circles"
   ]
  },
  {
   "cell_type": "code",
   "execution_count": 9,
   "metadata": {},
   "outputs": [],
   "source": [
    "def store_transform(dir_src, dir_tar, img_ids, transform):\n",
    "    for img_id in img_ids:\n",
    "        path_src = os.path.join(dir_src, str(img_id)+IMAGE_FORMAT)\n",
    "        path_tar = os.path.join(dir_tar, str(img_id)+IMAGE_FORMAT)\n",
    "        \n",
    "        img = transform(path_src)\n",
    "        \n",
    "        store_img(img, path_tar)"
   ]
  },
  {
   "cell_type": "code",
   "execution_count": 10,
   "metadata": {},
   "outputs": [],
   "source": [
    "def get_features(dir_src, img_ids):\n",
    "    circle_list = []\n",
    "    for img_id in img_ids:\n",
    "        path_src = os.path.join(dir_src, str(img_id)+IMAGE_FORMAT)\n",
    "        \n",
    "        circles = hough_transform(path_src)\n",
    "        circle_list.append(circles)\n",
    "    return circle_list"
   ]
  },
  {
   "cell_type": "code",
   "execution_count": 11,
   "metadata": {},
   "outputs": [],
   "source": [
    "# find galaxy images\n",
    "is_galaxy = label_csv[\"Actual\"]==1.0\n",
    "galaxy_ids = label_csv[is_galaxy].Id.values[1:]"
   ]
  },
  {
   "cell_type": "code",
   "execution_count": 12,
   "metadata": {},
   "outputs": [],
   "source": [
    "# preprocess images to binary\n",
    "store_transform(DIR_SRC, DIR_BIN, galaxy_ids, to_binary)"
   ]
  },
  {
   "cell_type": "code",
   "execution_count": 13,
   "metadata": {},
   "outputs": [],
   "source": [
    "# extract features (coordinates and radius) from binary images\n",
    "circle_list = get_features(DIR_BIN, galaxy_ids)"
   ]
  },
  {
   "cell_type": "markdown",
   "metadata": {},
   "source": [
    "# Training"
   ]
  },
  {
   "cell_type": "code",
   "execution_count": 14,
   "metadata": {},
   "outputs": [],
   "source": [
    "def round_to_grid(array, max_vals = [99, 99]):\n",
    "    array = np.floor(array/GRIDSIZE)\n",
    "    array = np.minimum(array, max_vals)\n",
    "    return array"
   ]
  },
  {
   "cell_type": "code",
   "execution_count": 15,
   "metadata": {},
   "outputs": [],
   "source": [
    "# store features in csv\n",
    "n_images = len(circle_list)\n",
    "features = np.asarray([\"image\", \"x\", \"y\", \"r\"])\n",
    "\n",
    "for i, circles in enumerate(circle_list):\n",
    "    if not circles is None:\n",
    "        f = circles[0]\n",
    "        n_circles = f.shape[0]\n",
    "        indices = np.ones((n_circles, 1))\n",
    "        indices *= i\n",
    "        f = np.hstack((indices, f))\n",
    "        features = np.vstack((features, f))\n",
    "\n",
    "features = pd.DataFrame(data = features[1:], columns = features[0])\n",
    "features.to_csv(\"cil-cosmology-2020/circle_features.csv\", index=False)"
   ]
  },
  {
   "cell_type": "code",
   "execution_count": 16,
   "metadata": {},
   "outputs": [],
   "source": [
    "# compute probability distribution\n",
    "P = np.zeros((N_TILES, N_TILES, MAX_RADIUS))\n",
    "n_imgs = len(galaxy_ids)\n",
    "for i, img in enumerate(circle_list):\n",
    "    if img is None:\n",
    "        continue\n",
    "    for circle in img[0]:\n",
    "        index = round_to_grid(circle[:2]).reshape(2,).astype(int)\n",
    "        index = np.hstack((index, circle[2]))\n",
    "        index = tuple(index)\n",
    "        P[index] += 1/n_imgs"
   ]
  },
  {
   "cell_type": "markdown",
   "metadata": {},
   "source": [
    "# Image generation"
   ]
  },
  {
   "cell_type": "code",
   "execution_count": 17,
   "metadata": {},
   "outputs": [],
   "source": [
    "def sample_features():\n",
    "    mask = np.random.rand(N_TILES, N_TILES, MAX_RADIUS)\n",
    "    coordinates_t = np.where(mask<=P)\n",
    "    coordinates = np.hstack(coordinates_t)\n",
    "    n_circles = int(coordinates.shape[0]/3)\n",
    "\n",
    "    circles = np.zeros((n_circles, 3))\n",
    "    offset_x = random.randint(0, GRIDSIZE-1)\n",
    "    offset_y = random.randint(0, GRIDSIZE-1)\n",
    "    for i in range(n_circles):\n",
    "        circles[i] = [coordinates[0*n_circles+i]*GRIDSIZE+offset_x, coordinates[1*n_circles+i]*GRIDSIZE+offset_y, coordinates[2*n_circles+i]]\n",
    "    circles = circles.astype(int)\n",
    "    return circles"
   ]
  },
  {
   "cell_type": "code",
   "execution_count": 18,
   "metadata": {},
   "outputs": [],
   "source": [
    "def generate_galaxies(n_galaxies):\n",
    "    galaxies = []\n",
    "    for i in range(n_galaxies):\n",
    "        circles = sample_features()\n",
    "        cimg = np.zeros((IMAGE_SIZE, IMAGE_SIZE), np.uint8)        \n",
    "        \n",
    "        for c in circles:\n",
    "            cv2.circle(cimg, (c[0], c[1]), c[2], MAX_INTENSITY, -1)\n",
    "        galaxies.append(cimg)\n",
    "    return galaxies"
   ]
  },
  {
   "cell_type": "code",
   "execution_count": 19,
   "metadata": {},
   "outputs": [
    {
     "data": {
      "text/plain": [
       "<Figure size 1080x1440 with 0 Axes>"
      ]
     },
     "metadata": {},
     "output_type": "display_data"
    }
   ],
   "source": [
    "# generate new cosmology images\n",
    "images = generate_galaxies(N_IMAGES_TO_GENERATE)\n",
    "plt.figure(figsize=(15, 20))\n",
    "n_images = len(images)\n",
    "ctr = 0\n",
    "for i, img in enumerate(images):\n",
    "    ctr += 1\n",
    "    image = np.asarray(img)\n",
    "    image = image.reshape((IMAGE_SIZE, IMAGE_SIZE))\n",
    "    #plt.subplot(4, 3, i+1)\n",
    "    #plt.imshow(image)\n",
    "    #plt.axis(\"Off\")\n",
    "    image_path = os.path.join(DIR_TAR, str(ctr)+IMAGE_FORMAT)\n",
    "    store_img(image, image_path)"
   ]
  },
  {
   "cell_type": "code",
   "execution_count": 2,
   "metadata": {},
   "outputs": [
    {
     "ename": "NameError",
     "evalue": "name 'time' is not defined",
     "output_type": "error",
     "traceback": [
      "\u001b[0;31m---------------------------------------------------------------------------\u001b[0m",
      "\u001b[0;31mNameError\u001b[0m                                 Traceback (most recent call last)",
      "\u001b[0;32m<ipython-input-2-9bbbd3e7a7cc>\u001b[0m in \u001b[0;36m<module>\u001b[0;34m\u001b[0m\n\u001b[0;32m----> 1\u001b[0;31m \u001b[0melapsed_tome\u001b[0m \u001b[0;34m=\u001b[0m \u001b[0mtime\u001b[0m\u001b[0;34m.\u001b[0m\u001b[0mtime\u001b[0m\u001b[0;34m(\u001b[0m\u001b[0;34m)\u001b[0m \u001b[0;34m-\u001b[0m \u001b[0mstart_time\u001b[0m\u001b[0;34m\u001b[0m\u001b[0;34m\u001b[0m\u001b[0m\n\u001b[0m",
      "\u001b[0;31mNameError\u001b[0m: name 'time' is not defined"
     ]
    }
   ],
   "source": [
    "elapsed_time = time.time() - start_time\n",
    "print('Elapsed: %s' % (elapsed_time))"
   ]
  }
 ],
 "metadata": {
  "kernelspec": {
   "display_name": "Python 3",
   "language": "python",
   "name": "python3"
  },
  "language_info": {
   "codemirror_mode": {
    "name": "ipython",
    "version": 3
   },
   "file_extension": ".py",
   "mimetype": "text/x-python",
   "name": "python",
   "nbconvert_exporter": "python",
   "pygments_lexer": "ipython3",
   "version": "3.7.7"
  }
 },
 "nbformat": 4,
 "nbformat_minor": 4
}
